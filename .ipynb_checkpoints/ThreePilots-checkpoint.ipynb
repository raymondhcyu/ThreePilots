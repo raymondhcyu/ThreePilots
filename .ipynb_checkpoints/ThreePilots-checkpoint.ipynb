{
 "cells": [
  {
   "cell_type": "code",
   "execution_count": 78,
   "metadata": {
    "ExecuteTime": {
     "end_time": "2020-07-01T05:04:48.666647Z",
     "start_time": "2020-07-01T05:04:48.663408Z"
    }
   },
   "outputs": [],
   "source": [
    "'''\n",
    "Recently, a Pakistani International Airlines flight crash landed; a subsequent investgiation\n",
    "showed that around one in three pilots there had fabricated credentials. This script simulates \n",
    "the probabilities of having a pilot with fabricated credentials in a typical two-person cockpit\n",
    "of a commercial flight.\n",
    "'''\n",
    "\n",
    "import numpy as np\n",
    "import pandas as pd\n",
    "import matplotlib.pyplot as plt\n",
    "import seaborn as sns\n",
    "import time\n",
    "import datetime\n",
    "import sys\n",
    "import random as rand"
   ]
  },
  {
   "cell_type": "code",
   "execution_count": 100,
   "metadata": {
    "ExecuteTime": {
     "end_time": "2020-07-01T05:07:55.196387Z",
     "start_time": "2020-07-01T05:07:55.149350Z"
    }
   },
   "outputs": [
    {
     "name": "stdout",
     "output_type": "stream",
     "text": [
      "All good: 43.82\t\tSome good: 45.14\tNo good: 11.04\n"
     ]
    }
   ],
   "source": [
    "allGood       = 0     # counter for when both pilots are real\n",
    "someGood      = 0     # counter for when one pilot is real\n",
    "noGood        = 0     # counter for when both pilots are fake :(\n",
    "numIterations = 10000 # number of simulations\n",
    "numIteractionsFixed = numIterations\n",
    "sampleSize    = 99999\n",
    "\n",
    "# Create sample set list\n",
    "sampleset = [1] * sampleSize\n",
    "for i in range(int(sampleSize/3)):\n",
    "    sampleset[i] = 0\n",
    "    \n",
    "while (numIterations > 0):\n",
    "    # Pick two random pilots from the pool\n",
    "#     pilot1 = sampleset.pop(rand.randrange(len(sampleset)))\n",
    "#     pilot2 = sampleset.pop(rand.randrange(len(sampleset)))\n",
    "    pilot1 = rand.choice(sampleset)\n",
    "    pilot2 = rand.choice(sampleset)\n",
    "\n",
    "    # print(\"Pilot 1 is: \" + str(pilot1) + \" and Pilot 2 is: \" \\\n",
    "    #       + str(pilot2) + \"\\nThe last pilot is: \" + str(sampleset))\n",
    "\n",
    "    # Add data to analysis set\n",
    "    if (pilot1 == 0) and (pilot2 == 0):\n",
    "        noGood += 1\n",
    "    elif ((pilot1 == 0) and (pilot2 == 1)) or ((pilot1 == 1) and (pilot2 == 0)):\n",
    "        someGood += 1\n",
    "    else:\n",
    "        allGood += 1\n",
    "    numIterations -= 1\n",
    "    \n",
    "percentallGood = (allGood/numIteractionsFixed)*100\n",
    "percentsomeGood = (someGood/numIteractionsFixed)*100\n",
    "percentnoGood = (noGood/numIteractionsFixed)*100\n",
    "print(\"All good: \" + str(\"{:.2f}\".format(percentallGood)) + \"\\t\\tSome good: \"\\\n",
    "      + str(\"{:.2f}\".format(percentsomeGood)) + \"\\tNo good: \" \\\n",
    "      + str(\"{:.2f}\".format(percentnoGood)))"
   ]
  },
  {
   "cell_type": "code",
   "execution_count": null,
   "metadata": {},
   "outputs": [],
   "source": []
  }
 ],
 "metadata": {
  "kernelspec": {
   "display_name": "Python 3",
   "language": "python",
   "name": "python3"
  },
  "language_info": {
   "codemirror_mode": {
    "name": "ipython",
    "version": 3
   },
   "file_extension": ".py",
   "mimetype": "text/x-python",
   "name": "python",
   "nbconvert_exporter": "python",
   "pygments_lexer": "ipython3",
   "version": "3.6.6"
  },
  "varInspector": {
   "cols": {
    "lenName": 16,
    "lenType": 16,
    "lenVar": 40
   },
   "kernels_config": {
    "python": {
     "delete_cmd_postfix": "",
     "delete_cmd_prefix": "del ",
     "library": "var_list.py",
     "varRefreshCmd": "print(var_dic_list())"
    },
    "r": {
     "delete_cmd_postfix": ") ",
     "delete_cmd_prefix": "rm(",
     "library": "var_list.r",
     "varRefreshCmd": "cat(var_dic_list()) "
    }
   },
   "types_to_exclude": [
    "module",
    "function",
    "builtin_function_or_method",
    "instance",
    "_Feature"
   ],
   "window_display": false
  }
 },
 "nbformat": 4,
 "nbformat_minor": 2
}
